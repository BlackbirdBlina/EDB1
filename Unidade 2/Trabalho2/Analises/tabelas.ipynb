{
 "cells": [
  {
   "cell_type": "code",
   "execution_count": 1,
   "id": "5cffd70a",
   "metadata": {},
   "outputs": [],
   "source": [
    "import pandas as pd"
   ]
  },
  {
   "cell_type": "code",
   "execution_count": 14,
   "id": "d3a51aa1",
   "metadata": {},
   "outputs": [],
   "source": [
    "def extraiDado(linha: str):\n",
    "    pedacos = linha.split()\n",
    "    tempo = pedacos[4]\n",
    "    comparacoes = pedacos[7]\n",
    "    trocas = pedacos[10]\n",
    "    return tempo, comparacoes, trocas"
   ]
  },
  {
   "cell_type": "code",
   "execution_count": 15,
   "id": "5160eebc",
   "metadata": {},
   "outputs": [],
   "source": [
    "def capturaAlgoritmo(i: int):\n",
    "    if (i == 0):\n",
    "        return \"Selection Sort\"\n",
    "    if (i == 1):\n",
    "        return \"Insertion Sort\"\n",
    "    if (i == 2):\n",
    "        return \"Bubble Sort\"\n",
    "    if (i == 3):\n",
    "        return \"Quick Sort\"\n",
    "    if (i == 4):\n",
    "        return \"Merge Sort\""
   ]
  },
  {
   "cell_type": "code",
   "execution_count": 21,
   "id": "b26892b4",
   "metadata": {},
   "outputs": [],
   "source": [
    "def extraiInfoArquivo(tamanho, distribuicao):\n",
    "    with open(f\"../DadosColetados/{tamanho}_Dados/{distribuicao}.txt\") as file:\n",
    "        dados = file.readlines()\n",
    "    data = []\n",
    "\n",
    "    for i,linha in enumerate(dados[2:7]):\n",
    "        tempo, comparacoes, trocas = extraiDado(linha)\n",
    "        algoritmo = capturaAlgoritmo(i)\n",
    "        data.append({\"tempo\": tempo, \"comparações\": comparacoes, \"trocas\": trocas, \"Algoritmo\": algoritmo, \"Tamanho\": tamanho, \"Distribuição\": distribuicao})\n",
    "\n",
    "    data.append({\"tempo\": dados[-1].split()[4], \"comparações\": 0, \"trocas\": 0, \"Algoritmo\": \"STL (Standard Library)\", \"Tamanho\": tamanho, \"Distribuição\": distribuicao})\n",
    "    return data"
   ]
  },
  {
   "cell_type": "code",
   "execution_count": 23,
   "id": "082e2445",
   "metadata": {},
   "outputs": [],
   "source": [
    "tamanhos = [\n",
    "    1000,\n",
    "    10000,\n",
    "    20000,\n",
    "    30000,\n",
    "    40000,\n",
    "    50000,\n",
    "    60000,\n",
    "    70000,\n",
    "    80000,\n",
    "    90000,\n",
    "    100000\n",
    "]\n",
    "\n",
    "distribuicoes = [\n",
    "    \"aleatorio\",\n",
    "    \"quase_ordenado\",\n",
    "    \"inversamente_ordenados\"\n",
    "]\n",
    "\n",
    "todosOsDados = []\n",
    "\n",
    "for t in tamanhos:\n",
    "    for d in distribuicoes:\n",
    "        dados = extraiInfoArquivo(t, d)\n",
    "        todosOsDados.extend(dados)"
   ]
  },
  {
   "cell_type": "code",
   "execution_count": 27,
   "id": "987692c4",
   "metadata": {},
   "outputs": [],
   "source": [
    "df = pd.DataFrame(todosOsDados)"
   ]
  },
  {
   "cell_type": "code",
   "execution_count": 29,
   "id": "aa49a95f",
   "metadata": {},
   "outputs": [],
   "source": [
    "df.to_csv(\"Tabela.csv\")"
   ]
  },
  {
   "cell_type": "code",
   "execution_count": 2,
   "id": "e82515be",
   "metadata": {},
   "outputs": [],
   "source": [
    "df = pd.read_csv(\"Tabela.csv\")"
   ]
  },
  {
   "cell_type": "code",
   "execution_count": 4,
   "id": "5c1b1c88",
   "metadata": {},
   "outputs": [],
   "source": [
    "df_1000 = df[df[\"Tamanho\"] == 1000]"
   ]
  },
  {
   "cell_type": "code",
   "execution_count": 9,
   "id": "26c015e9",
   "metadata": {},
   "outputs": [],
   "source": [
    "df_1000[[\"Algoritmo\", \"Tamanho\", \"Distribuição\", \"tempo\", \"comparações\", \"trocas\"]].to_excel(\"Tabela1000.xlsx\")"
   ]
  },
  {
   "cell_type": "code",
   "execution_count": 10,
   "id": "9f854376",
   "metadata": {},
   "outputs": [],
   "source": [
    "df_50000 = df[df[\"Tamanho\"] == 50000]"
   ]
  },
  {
   "cell_type": "code",
   "execution_count": 11,
   "id": "abbe7b80",
   "metadata": {},
   "outputs": [],
   "source": [
    "df_50000[[\"Algoritmo\", \"Tamanho\", \"Distribuição\", \"tempo\", \"comparações\", \"trocas\"]].to_excel(\"Tabela50000.xlsx\")"
   ]
  },
  {
   "cell_type": "code",
   "execution_count": 12,
   "id": "8693a7b0",
   "metadata": {},
   "outputs": [],
   "source": [
    "df_100000 = df[df[\"Tamanho\"] == 100000]"
   ]
  },
  {
   "cell_type": "code",
   "execution_count": 13,
   "id": "829ff7c1",
   "metadata": {},
   "outputs": [],
   "source": [
    "df_100000[[\"Algoritmo\", \"Tamanho\", \"Distribuição\", \"tempo\", \"comparações\", \"trocas\"]].to_excel(\"Tabela100000.xlsx\")"
   ]
  },
  {
   "cell_type": "code",
   "execution_count": 22,
   "id": "68404ba5",
   "metadata": {},
   "outputs": [],
   "source": [
    "df[(df[\"Tamanho\"] == 100000) & (df[\"Distribuição\"] == \"inversamente_ordenados\")].sort_values(\"tempo\")[[\"Algoritmo\", \"tempo\"]].to_excel(\"Ranking.xlsx\")"
   ]
  }
 ],
 "metadata": {
  "kernelspec": {
   "display_name": "Python 3",
   "language": "python",
   "name": "python3"
  },
  "language_info": {
   "codemirror_mode": {
    "name": "ipython",
    "version": 3
   },
   "file_extension": ".py",
   "mimetype": "text/x-python",
   "name": "python",
   "nbconvert_exporter": "python",
   "pygments_lexer": "ipython3",
   "version": "3.8.10"
  }
 },
 "nbformat": 4,
 "nbformat_minor": 5
}
