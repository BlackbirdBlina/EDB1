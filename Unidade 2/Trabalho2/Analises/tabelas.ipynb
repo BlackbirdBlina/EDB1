{
 "cells": [
  {
   "cell_type": "code",
   "execution_count": 1,
   "id": "5cffd70a",
   "metadata": {},
   "outputs": [],
   "source": [
    "import pandas as pd"
   ]
  },
  {
   "cell_type": "code",
   "execution_count": 14,
   "id": "d3a51aa1",
   "metadata": {},
   "outputs": [],
   "source": [
    "def extraiDado(linha: str):\n",
    "    pedacos = linha.split()\n",
    "    tempo = pedacos[4]\n",
    "    comparacoes = pedacos[7]\n",
    "    trocas = pedacos[10]\n",
    "    return tempo, comparacoes, trocas"
   ]
  },
  {
   "cell_type": "code",
   "execution_count": 15,
   "id": "5160eebc",
   "metadata": {},
   "outputs": [],
   "source": [
    "def capturaAlgoritmo(i: int):\n",
    "    if (i == 0):\n",
    "        return \"Selection Sort\"\n",
    "    if (i == 1):\n",
    "        return \"Insertion Sort\"\n",
    "    if (i == 2):\n",
    "        return \"Bubble Sort\"\n",
    "    if (i == 3):\n",
    "        return \"Quick Sort\"\n",
    "    if (i == 4):\n",
    "        return \"Merge Sort\""
   ]
  },
  {
   "cell_type": "code",
   "execution_count": 21,
   "id": "b26892b4",
   "metadata": {},
   "outputs": [],
   "source": [
    "def extraiInfoArquivo(tamanho, distribuicao):\n",
    "    with open(f\"../DadosColetados/{tamanho}_Dados/{distribuicao}.txt\") as file:\n",
    "        dados = file.readlines()\n",
    "    data = []\n",
    "\n",
    "    for i,linha in enumerate(dados[2:7]):\n",
    "        tempo, comparacoes, trocas = extraiDado(linha)\n",
    "        algoritmo = capturaAlgoritmo(i)\n",
    "        data.append({\"tempo\": tempo, \"comparações\": comparacoes, \"trocas\": trocas, \"Algoritmo\": algoritmo, \"Tamanho\": tamanho, \"Distribuição\": distribuicao})\n",
    "\n",
    "    data.append({\"tempo\": dados[-1].split()[4], \"comparações\": 0, \"trocas\": 0, \"Algoritmo\": \"STL (Standard Library)\", \"Tamanho\": tamanho, \"Distribuição\": distribuicao})\n",
    "    return data"
   ]
  },
  {
   "cell_type": "code",
   "execution_count": 23,
   "id": "082e2445",
   "metadata": {},
   "outputs": [],
   "source": [
    "tamanhos = [\n",
    "    1000,\n",
    "    10000,\n",
    "    20000,\n",
    "    30000,\n",
    "    40000,\n",
    "    50000,\n",
    "    60000,\n",
    "    70000,\n",
    "    80000,\n",
    "    90000,\n",
    "    100000\n",
    "]\n",
    "\n",
    "distribuicoes = [\n",
    "    \"aleatorio\",\n",
    "    \"quase_ordenado\",\n",
    "    \"inversamente_ordenados\"\n",
    "]\n",
    "\n",
    "todosOsDados = []\n",
    "\n",
    "for t in tamanhos:\n",
    "    for d in distribuicoes:\n",
    "        dados = extraiInfoArquivo(t, d)\n",
    "        todosOsDados.extend(dados)"
   ]
  },
  {
   "cell_type": "code",
   "execution_count": 27,
   "id": "987692c4",
   "metadata": {},
   "outputs": [],
   "source": [
    "df = pd.DataFrame(todosOsDados)"
   ]
  },
  {
   "cell_type": "code",
   "execution_count": 29,
   "id": "aa49a95f",
   "metadata": {},
   "outputs": [],
   "source": [
    "df.to_csv(\"Tabela.csv\")"
   ]
  }
 ],
 "metadata": {
  "kernelspec": {
   "display_name": "Python 3",
   "language": "python",
   "name": "python3"
  },
  "language_info": {
   "codemirror_mode": {
    "name": "ipython",
    "version": 3
   },
   "file_extension": ".py",
   "mimetype": "text/x-python",
   "name": "python",
   "nbconvert_exporter": "python",
   "pygments_lexer": "ipython3",
   "version": "3.8.10"
  }
 },
 "nbformat": 4,
 "nbformat_minor": 5
}
